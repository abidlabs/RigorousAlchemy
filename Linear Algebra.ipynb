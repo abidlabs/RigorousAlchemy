{
 "cells": [
  {
   "cell_type": "markdown",
   "metadata": {},
   "source": [
    "Note:\n",
    "* Black theme\n",
    "* Hide code\n",
    "* abidlabs logo on the bottom left"
   ]
  },
  {
   "cell_type": "markdown",
   "metadata": {
    "slideshow": {
     "slide_type": "slide"
    }
   },
   "source": [
    "# Vector Spaces, Bases, and Eigenvalues\n",
    "### _Foundational Math for Machine Learning_"
   ]
  },
  {
   "cell_type": "markdown",
   "metadata": {
    "slideshow": {
     "slide_type": "slide"
    }
   },
   "source": [
    "# Linear algebra is about \\_\\_\\_\\_\\_\\_\\_\\_\\_."
   ]
  },
  {
   "cell_type": "markdown",
   "metadata": {
    "slideshow": {
     "slide_type": "slide"
    }
   },
   "source": []
  },
  {
   "cell_type": "markdown",
   "metadata": {
    "slideshow": {
     "slide_type": "notes"
    }
   },
   "source": [
    "Give examples, including real world exmaples."
   ]
  },
  {
   "cell_type": "markdown",
   "metadata": {
    "slideshow": {
     "slide_type": "notes"
    }
   },
   "source": [
    "Give some real life examples as well"
   ]
  },
  {
   "cell_type": "code",
   "execution_count": 17,
   "metadata": {
    "slideshow": {
     "slide_type": "skip"
    }
   },
   "outputs": [
    {
     "name": "stdout",
     "output_type": "stream",
     "text": [
      "The autoreload extension is already loaded. To reload it, use:\n",
      "  %reload_ext autoreload\n"
     ]
    }
   ],
   "source": [
    "import numpy as np, matplotlib.pyplot as plt, soundfile as sf\n",
    "from matplotlib import rcParams\n",
    "\n",
    "params = {\n",
    "   'axes.labelsize': 16,\n",
    "    'axes.titlesize': 20,\n",
    "   'font.size': 20,\n",
    "   'legend.fontsize': 16,\n",
    "   'xtick.labelsize': 13,\n",
    "   'ytick.labelsize': 13,\n",
    "   'text.usetex': False,\n",
    "    'font.family':\"sans-serif\",\n",
    "   'font.sans-serif':'Arial',\n",
    "    'figure.facecolor': 'black',\n",
    "    'savefig.facecolor': 'black',\n",
    "    'axes.facecolor': 'black',   # axes background color\n",
    "    \n",
    "    \"figure.edgecolor\": \"black\",\n",
    "    \"savefig.edgecolor\": \"black\",\n",
    "    \n",
    "   'text.usetex': False,\n",
    "\n",
    "   }\n",
    "\n",
    "plt.style.use(['dark_background'])\n",
    "rcParams.update(params)\n",
    "%matplotlib inline\n",
    "%load_ext autoreload\n",
    "%autoreload 2"
   ]
  },
  {
   "cell_type": "code",
   "execution_count": 39,
   "metadata": {
    "collapsed": true,
    "slideshow": {
     "slide_type": "skip"
    }
   },
   "outputs": [],
   "source": [
    "def plot_vectors():\n",
    "    fig, axes = plt.subplots(nrows=1, ncols=3, figsize=[15,5], facecolor=\"black\")\n",
    "    ax = axes[0]\n",
    "    ax.axhline(0, color='white')\n",
    "    ax.axvline(0, color='white')\n",
    "    ax.set_xlim([-5, 5])\n",
    "    ax.set_ylim([-5, 5])\n",
    "    ax.set_title(\"Rotator\")\n",
    "    ax.arrow(0,0,1,1,width=0.1)\n",
    "    ax.arrow(0,0,1,-1,width=0.1, color='C1')\n",
    "    ax.annotate('Rotates a 2D vector clockwise by 90 deg.', (0,0), (0, -25), xycoords='axes fraction', textcoords='offset points', va='top', size=15,);\n",
    "\n",
    "    ax = axes[1]\n",
    "    ax.axhline(0, color='white')\n",
    "    ax.axvline(0, color='white')\n",
    "    ax.set_xlim([-5, 5])\n",
    "    ax.set_ylim([-5, 5])\n",
    "    t = np.linspace(0,np.pi*2,100)\n",
    "    ax.plot(2.1*np.cos(t), 2.1*np.sin(t), linewidth=1)\n",
    "    ax.set_title(\"Unitizer\")\n",
    "    ax.arrow(0,0,2,2,width=0.1)\n",
    "    ax.arrow(0,0,np.sqrt(2)/1.5,np.sqrt(2)/1.5,width=0.1, color='C1')\n",
    "    ax.annotate('Scales a 2D vector to have unit length.', (0,0), (0, -25), xycoords='axes fraction', textcoords='offset points', va='top', size=15,);\n",
    "    \n",
    "    ax = axes[2]\n",
    "    ax.axhline(0, color='white')\n",
    "    ax.axvline(0, color='white')\n",
    "    ax.set_xlim([-5, 5])\n",
    "    ax.set_ylim([-5, 5])\n",
    "    ax.set_title(\"Shifter\")\n",
    "    ax.arrow(0,0,3,2,width=0.1)\n",
    "    ax.arrow(0,0,3,3,width=0.1, color='C1')\n",
    "    ax.annotate('Shifts a 2D vector vertically up by 1 unit.', (0,0), (0, -25), xycoords='axes fraction', textcoords='offset points', va='top', size=15,);"
   ]
  },
  {
   "cell_type": "markdown",
   "metadata": {
    "slideshow": {
     "slide_type": "skip"
    }
   },
   "source": [
    "# The 2 properties of a *linear* transformation:\n",
    "\n",
    "1. $ T(\\vec{u}) + T(\\vec{v}) = T(\\vec{u} + \\vec{v}) $\n",
    "2. $ T(s \\cdot \\vec{u}) = s \\cdot T(\\vec{u}) $"
   ]
  },
  {
   "cell_type": "markdown",
   "metadata": {
    "slideshow": {
     "slide_type": "slide"
    }
   },
   "source": [
    "# Which of these is a linear transformation?"
   ]
  },
  {
   "cell_type": "code",
   "execution_count": 40,
   "metadata": {
    "slideshow": {
     "slide_type": "-"
    }
   },
   "outputs": [
    {
     "data": {
      "image/png": "[encoded data removed]",
      "text/plain": [
       "<matplotlib.figure.Figure at 0x2c0629dbcc0>"
      ]
     },
     "metadata": {},
     "output_type": "display_data"
    }
   ],
   "source": [
    "plot_vectors()"
   ]
  },
  {
   "cell_type": "markdown",
   "metadata": {
    "slideshow": {
     "slide_type": "slide"
    }
   },
   "source": [
    "# Why are linear transformations special?"
   ]
  },
  {
   "cell_type": "markdown",
   "metadata": {},
   "source": [
    "# Some sad linear transformations (projections)..."
   ]
  },
  {
   "cell_type": "markdown",
   "metadata": {},
   "source": [
    "# \"Conservation\" of dimension"
   ]
  },
  {
   "cell_type": "markdown",
   "metadata": {},
   "source": [
    "# Vectors that map back to themselves"
   ]
  },
  {
   "cell_type": "markdown",
   "metadata": {},
   "source": [
    "# Prove this:\n",
    "\n",
    "$$ \\textbf{dim}(\\text{eigenspace of } T) \\ge \\textbf{dim}(\\text{nullspace of } T) $$"
   ]
  },
  {
   "cell_type": "markdown",
   "metadata": {},
   "source": [
    "# Vectors that map back to themselves"
   ]
  }
 ],
 "metadata": {
  "celltoolbar": "Slideshow",
  "kernelspec": {
   "display_name": "Python 3",
   "language": "python",
   "name": "python3"
  },
  "language_info": {
   "codemirror_mode": {
    "name": "ipython",
    "version": 3
   },
   "file_extension": ".py",
   "mimetype": "text/x-python",
   "name": "python",
   "nbconvert_exporter": "python",
   "pygments_lexer": "ipython3",
   "version": "3.5.2"
  }
 },
 "nbformat": 4,
 "nbformat_minor": 2
}
